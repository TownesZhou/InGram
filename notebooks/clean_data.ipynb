{
 "cells": [
  {
   "cell_type": "markdown",
   "metadata": {},
   "source": [
    "# Clean Dataset - Remove Unseen Entities/Relations in Target Triplets\n",
    "\n",
    "Remove any triplets in `valid.txt` whose entities and/or relations are not seen in `train.txt`, and similarly for `test.txt` and `msg.txt`."
   ]
  },
  {
   "cell_type": "markdown",
   "metadata": {},
   "source": []
  },
  {
   "cell_type": "code",
   "execution_count": 1,
   "metadata": {},
   "outputs": [],
   "source": [
    "import os\n",
    "import pandas as pd"
   ]
  },
  {
   "cell_type": "code",
   "execution_count": 2,
   "metadata": {},
   "outputs": [],
   "source": [
    "raw_path = \"raw\"\n",
    "processed_path = \"processed\"\n",
    "\n",
    "data_name = \"FBNELL_v1\""
   ]
  },
  {
   "cell_type": "markdown",
   "metadata": {},
   "source": [
    "## Process `train.txt` and `valid.txt`"
   ]
  },
  {
   "cell_type": "code",
   "execution_count": 4,
   "metadata": {},
   "outputs": [],
   "source": [
    "# Read train.txt\n",
    "\n",
    "train_ents, train_rels, train_trips = [], [], []\n",
    "with open(os.path.join(raw_path, data_name, \"train.txt\"), \"r\") as f:\n",
    "    for line in f:\n",
    "        line = line.strip().split()\n",
    "        train_ents.append(line[0])\n",
    "        train_ents.append(line[2])\n",
    "        train_rels.append(line[1])\n",
    "        train_trips.append(line)"
   ]
  },
  {
   "cell_type": "code",
   "execution_count": 6,
   "metadata": {},
   "outputs": [],
   "source": [
    "# Read valid.txt\n",
    "\n",
    "valid_ents, valid_rels, valid_trips = [], [], []\n",
    "with open(os.path.join(raw_path, data_name, \"valid.txt\"), \"r\") as f:\n",
    "    for line in f:\n",
    "        line = line.strip().split()\n",
    "        valid_ents.append(line[0])\n",
    "        valid_ents.append(line[2])\n",
    "        valid_rels.append(line[1])\n",
    "        valid_trips.append(line)"
   ]
  },
  {
   "cell_type": "code",
   "execution_count": 7,
   "metadata": {},
   "outputs": [
    {
     "name": "stdout",
     "output_type": "stream",
     "text": [
      "Number of valid entities not in train: 158\n",
      "Number of valid relations not in train: 0\n"
     ]
    }
   ],
   "source": [
    "# Check how many valid entities and relations are not in train\n",
    "\n",
    "diff_ents = set(valid_ents) - set(train_ents)\n",
    "diff_rels = set(valid_rels) - set(train_rels)\n",
    "\n",
    "print(\"Number of valid entities not in train: {}\".format(len(diff_ents)))\n",
    "print(\"Number of valid relations not in train: {}\".format(len(diff_rels)))"
   ]
  },
  {
   "cell_type": "code",
   "execution_count": 10,
   "metadata": {},
   "outputs": [
    {
     "name": "stdout",
     "output_type": "stream",
     "text": [
      "Removed 164 triplets from raw valid\n"
     ]
    }
   ],
   "source": [
    "# Remove triples with entities and relations not in train\n",
    "\n",
    "valid_trips_processed = [\n",
    "    trip for trip in valid_trips \n",
    "    if trip[0] not in diff_ents and \n",
    "    trip[2] not in diff_ents and \n",
    "    trip[1] not in diff_rels]\n",
    "\n",
    "print(\"Removed {} triplets from raw valid\".format(len(valid_trips) - len(valid_trips_processed)))"
   ]
  },
  {
   "cell_type": "code",
   "execution_count": 12,
   "metadata": {},
   "outputs": [],
   "source": [
    "# Save orignal train.txt and processed valid.txt to processed folder\n",
    "\n",
    "if not os.path.exists(os.path.join(processed_path, data_name)):\n",
    "    os.makedirs(os.path.join(processed_path, data_name))\n",
    "\n",
    "with open(os.path.join(processed_path, data_name, \"train.txt\"), \"w\") as f:\n",
    "    for trip in train_trips:\n",
    "        f.write(\"{}\\t{}\\t{}\\n\".format(trip[0], trip[1], trip[2]))\n",
    "\n",
    "with open(os.path.join(processed_path, data_name, \"valid.txt\"), \"w\") as f:\n",
    "    for trip in valid_trips_processed:\n",
    "        f.write(\"{}\\t{}\\t{}\\n\".format(trip[0], trip[1], trip[2]))"
   ]
  },
  {
   "cell_type": "markdown",
   "metadata": {},
   "source": [
    "## Process `msg.txt` and `test.txt`"
   ]
  },
  {
   "cell_type": "code",
   "execution_count": 13,
   "metadata": {},
   "outputs": [],
   "source": [
    "# Read msg.txt\n",
    "\n",
    "msg_ents, msg_rels, msg_trips = [], [], []\n",
    "with open(os.path.join(raw_path, data_name, \"msg.txt\"), \"r\") as f:\n",
    "    for line in f:\n",
    "        line = line.strip().split()\n",
    "        msg_ents.append(line[0])\n",
    "        msg_ents.append(line[2])\n",
    "        msg_rels.append(line[1])\n",
    "        msg_trips.append(line)"
   ]
  },
  {
   "cell_type": "code",
   "execution_count": 14,
   "metadata": {},
   "outputs": [],
   "source": [
    "# Read test.txt\n",
    "\n",
    "test_ents, test_rels, test_trips = [], [], []\n",
    "with open(os.path.join(raw_path, data_name, \"test.txt\"), \"r\") as f:\n",
    "    for line in f:\n",
    "        line = line.strip().split()\n",
    "        test_ents.append(line[0])\n",
    "        test_ents.append(line[2])\n",
    "        test_rels.append(line[1])\n",
    "        test_trips.append(line)"
   ]
  },
  {
   "cell_type": "code",
   "execution_count": 15,
   "metadata": {},
   "outputs": [
    {
     "name": "stdout",
     "output_type": "stream",
     "text": [
      "Number of test entities not in msg: 5\n",
      "Number of test relations not in msg: 0\n"
     ]
    }
   ],
   "source": [
    "# Check how many test entities and relations are not in msg\n",
    "\n",
    "diff_ents = set(test_ents) - set(msg_ents)\n",
    "diff_rels = set(test_rels) - set(msg_rels)\n",
    "\n",
    "print(\"Number of test entities not in msg: {}\".format(len(diff_ents)))\n",
    "print(\"Number of test relations not in msg: {}\".format(len(diff_rels)))"
   ]
  },
  {
   "cell_type": "code",
   "execution_count": 16,
   "metadata": {},
   "outputs": [
    {
     "name": "stdout",
     "output_type": "stream",
     "text": [
      "Removed 5 triplets from raw test\n"
     ]
    }
   ],
   "source": [
    "# Remove triples with entities and relations not in msg\n",
    "\n",
    "test_trips_processed = [\n",
    "    trip for trip in test_trips\n",
    "    if trip[0] not in diff_ents and\n",
    "    trip[2] not in diff_ents and\n",
    "    trip[1] not in diff_rels]\n",
    "\n",
    "print(\"Removed {} triplets from raw test\".format(len(test_trips) - len(test_trips_processed)))"
   ]
  },
  {
   "cell_type": "code",
   "execution_count": 17,
   "metadata": {},
   "outputs": [],
   "source": [
    "# Save processed msg.txt and test.txt to processed folder\n",
    "\n",
    "if not os.path.exists(os.path.join(processed_path, data_name)):\n",
    "    os.makedirs(os.path.join(processed_path, data_name))\n",
    "\n",
    "with open(os.path.join(processed_path, data_name, \"msg.txt\"), \"w\") as f:\n",
    "    for trip in msg_trips:\n",
    "        f.write(\"{}\\t{}\\t{}\\n\".format(trip[0], trip[1], trip[2]))\n",
    "\n",
    "with open(os.path.join(processed_path, data_name, \"test.txt\"), \"w\") as f:\n",
    "    for trip in test_trips_processed:\n",
    "        f.write(\"{}\\t{}\\t{}\\n\".format(trip[0], trip[1], trip[2]))"
   ]
  },
  {
   "cell_type": "code",
   "execution_count": null,
   "metadata": {},
   "outputs": [],
   "source": []
  }
 ],
 "metadata": {
  "kernelspec": {
   "display_name": "ingram",
   "language": "python",
   "name": "python3"
  },
  "language_info": {
   "codemirror_mode": {
    "name": "ipython",
    "version": 3
   },
   "file_extension": ".py",
   "mimetype": "text/x-python",
   "name": "python",
   "nbconvert_exporter": "python",
   "pygments_lexer": "ipython3",
   "version": "3.8.17"
  },
  "orig_nbformat": 4
 },
 "nbformat": 4,
 "nbformat_minor": 2
}
